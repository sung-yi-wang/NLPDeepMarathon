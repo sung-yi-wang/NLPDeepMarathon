{
  "cells": [
    {
      "cell_type": "markdown",
      "metadata": {
        "id": "uPQjYb8NsTTX"
      },
      "source": [
        "### 作業目的: 更加熟習pytorch的tensor操作\n",
        "\n",
        "pytorch中有提供很多的API，讓使用者針對tensor進行各式各樣的操作，本次的作業希望讀者由pytorch的[官方網站](https://pytorch.org/docs/stable/torch.html)中選定四個針對tensor操作的API，對他的使用方法進行範例操作演練。"
      ]
    },
    {
      "cell_type": "markdown",
      "metadata": {
        "id": "HHZGXDhxsTTZ"
      },
      "source": [
        "### 選定的API 函數\n",
        "\n",
        "**請寫下選定的API functions**\n",
        "\n",
        "ex:\n",
        "* torch.from_numpy() / Tensor.numpy()\n",
        "* torch.unsqueeze() / torch.squeeze()\n",
        "* tensor.transpose() / tensor.permute()\n",
        "* torch.reshape() / tensor.view()"
      ]
    },
    {
      "cell_type": "markdown",
      "metadata": {
        "id": "syahgq6esTTe"
      },
      "source": [
        "### Function 1 - torch.from_numpy() / Tensor.numpy()"
      ]
    },
    {
      "cell_type": "code",
      "execution_count": 1,
      "metadata": {
        "colab": {
          "base_uri": "https://localhost:8080/"
        },
        "id": "_4uDgZgMsTTf",
        "outputId": "71fb19ef-5f30-436d-faa4-59ba34ae7eec"
      },
      "outputs": [
        {
          "output_type": "stream",
          "name": "stdout",
          "text": [
            "[[[[0.01655801 0.69719037 0.36123405]\n",
            "   [0.15745867 0.8293255  0.32668119]\n",
            "   [0.87658851 0.13109675 0.7380236 ]]\n",
            "\n",
            "  [[0.05475721 0.8986742  0.77391802]\n",
            "   [0.84228414 0.50489304 0.1937051 ]\n",
            "   [0.72206255 0.04306028 0.38218158]]]]\n",
            "tensor([[[[0.0166, 0.6972, 0.3612],\n",
            "          [0.1575, 0.8293, 0.3267],\n",
            "          [0.8766, 0.1311, 0.7380]],\n",
            "\n",
            "         [[0.0548, 0.8987, 0.7739],\n",
            "          [0.8423, 0.5049, 0.1937],\n",
            "          [0.7221, 0.0431, 0.3822]]]], dtype=torch.float64)\n"
          ]
        }
      ],
      "source": [
        "import torch\n",
        "import numpy as np\n",
        "\n",
        "a = np.random.rand(1,2,3,3)\n",
        "print(a)\n",
        "b = torch.from_numpy(a)\n",
        "print(b)"
      ]
    },
    {
      "cell_type": "code",
      "source": [
        "b.numpy()"
      ],
      "metadata": {
        "colab": {
          "base_uri": "https://localhost:8080/"
        },
        "id": "UZvwzG6uMDPG",
        "outputId": "d292d870-d730-45fc-d727-563e0db81941"
      },
      "execution_count": 2,
      "outputs": [
        {
          "output_type": "execute_result",
          "data": {
            "text/plain": [
              "array([[[[0.01655801, 0.69719037, 0.36123405],\n",
              "         [0.15745867, 0.8293255 , 0.32668119],\n",
              "         [0.87658851, 0.13109675, 0.7380236 ]],\n",
              "\n",
              "        [[0.05475721, 0.8986742 , 0.77391802],\n",
              "         [0.84228414, 0.50489304, 0.1937051 ],\n",
              "         [0.72206255, 0.04306028, 0.38218158]]]])"
            ]
          },
          "metadata": {},
          "execution_count": 2
        }
      ]
    },
    {
      "cell_type": "markdown",
      "metadata": {
        "id": "S8bD4Kw_sTTg"
      },
      "source": [
        "### Function 2 - torch.unsqueeze() / torch.squeeze()"
      ]
    },
    {
      "cell_type": "code",
      "execution_count": 3,
      "metadata": {
        "colab": {
          "base_uri": "https://localhost:8080/"
        },
        "id": "Jt8PvD5hsTTh",
        "outputId": "ca2002c0-a01b-4190-9ced-1f069b94c556"
      },
      "outputs": [
        {
          "output_type": "stream",
          "name": "stdout",
          "text": [
            "Before unsqueeze: torch.Size([1, 2, 2])\n",
            "After unsqueeze: torch.Size([1, 1, 2, 2])\n"
          ]
        }
      ],
      "source": [
        "a = torch.tensor([[[1,2],[2,3]]], dtype=torch.float32)\n",
        "print(f'Before unsqueeze: {a.size()}')\n",
        "\n",
        "b = torch.unsqueeze(a, dim=0)\n",
        "print(f'After unsqueeze: {b.size()}')"
      ]
    },
    {
      "cell_type": "code",
      "execution_count": 4,
      "metadata": {
        "colab": {
          "base_uri": "https://localhost:8080/"
        },
        "id": "3IyM3_kzsTTh",
        "outputId": "5ff29500-c269-43c5-e49e-a16d05f4f97a"
      },
      "outputs": [
        {
          "output_type": "stream",
          "name": "stdout",
          "text": [
            "After squeeze: torch.Size([2, 2])\n"
          ]
        }
      ],
      "source": [
        "c = torch.squeeze(a, dim=0)\n",
        "print(f'After squeeze: {c.size()}')"
      ]
    },
    {
      "cell_type": "markdown",
      "metadata": {
        "id": "cJ42fz50sTTi"
      },
      "source": [
        "### Function 3 - tensor.transpose() / tensor.permute()"
      ]
    },
    {
      "cell_type": "code",
      "execution_count": 5,
      "metadata": {
        "colab": {
          "base_uri": "https://localhost:8080/"
        },
        "id": "SJQocvuLsTTj",
        "outputId": "b3cf48f9-66e9-4fd7-a16c-32beef70ff1f"
      },
      "outputs": [
        {
          "output_type": "stream",
          "name": "stdout",
          "text": [
            "Original shape: torch.Size([2, 2, 3])\n",
            "Transpose shape: torch.Size([3, 2, 2])\n"
          ]
        }
      ],
      "source": [
        "a = torch.tensor([[[1,2,3], [4,5,6]], [[7,8,9], [10,11,12]]])\n",
        "print(f'Original shape: {a.size()}')\n",
        "\n",
        "b = a.transpose(dim0=0, dim1=2)\n",
        "print(f'Transpose shape: {b.size()}')"
      ]
    },
    {
      "cell_type": "code",
      "execution_count": 6,
      "metadata": {
        "colab": {
          "base_uri": "https://localhost:8080/"
        },
        "id": "CjRFptN9sTTj",
        "outputId": "2c37fb79-4866-49ef-fc99-7a4ea8b738ee"
      },
      "outputs": [
        {
          "output_type": "stream",
          "name": "stdout",
          "text": [
            "Permute shape: torch.Size([2, 3, 2])\n"
          ]
        }
      ],
      "source": [
        "c = a.permute((1,2,0))\n",
        "print(f'Permute shape: {c.size()}')"
      ]
    },
    {
      "cell_type": "markdown",
      "metadata": {
        "id": "CVEfAE99sTTk"
      },
      "source": [
        "### Function 4 - torch.reshape() / tensor.view()"
      ]
    },
    {
      "cell_type": "code",
      "execution_count": 7,
      "metadata": {
        "id": "XUzIGnwcsTTl",
        "colab": {
          "base_uri": "https://localhost:8080/"
        },
        "outputId": "09f9cf2d-c0d3-4207-ac63-82bcfb599abb"
      },
      "outputs": [
        {
          "output_type": "stream",
          "name": "stdout",
          "text": [
            "Original shape: torch.Size([2, 2, 3])\n",
            "Reshape shape: torch.Size([4, 3])\n"
          ]
        }
      ],
      "source": [
        "a = torch.tensor([[[1,2,3], [4,5,6]], [[7,8,9], [10,11,12]]])\n",
        "print(f'Original shape: {a.size()}')\n",
        "\n",
        "b = torch.reshape(a, shape=(-1, 3))\n",
        "print(f'Reshape shape: {b.size()}')"
      ]
    },
    {
      "cell_type": "code",
      "execution_count": 8,
      "metadata": {
        "id": "nZrCIwypsTTl",
        "colab": {
          "base_uri": "https://localhost:8080/"
        },
        "outputId": "307ef8d3-df13-4449-c5a3-e8f149b9c951"
      },
      "outputs": [
        {
          "output_type": "stream",
          "name": "stdout",
          "text": [
            "View shape: torch.Size([4, 3])\n"
          ]
        }
      ],
      "source": [
        "c = a.view((-1,3))\n",
        "print(f'View shape: {c.size()}')"
      ]
    }
  ],
  "metadata": {
    "kernelspec": {
      "display_name": "pytorch_env",
      "language": "python",
      "name": "pytorch_env"
    },
    "language_info": {
      "codemirror_mode": {
        "name": "ipython",
        "version": 3
      },
      "file_extension": ".py",
      "mimetype": "text/x-python",
      "name": "python",
      "nbconvert_exporter": "python",
      "pygments_lexer": "ipython3",
      "version": "3.7.3"
    },
    "colab": {
      "provenance": [],
      "collapsed_sections": []
    }
  },
  "nbformat": 4,
  "nbformat_minor": 0
}